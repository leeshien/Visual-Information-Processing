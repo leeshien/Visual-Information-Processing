{
 "cells": [
  {
   "cell_type": "code",
   "execution_count": 1,
   "metadata": {},
   "outputs": [],
   "source": [
    "import numpy as np\n",
    "import cv2\n",
    "from matplotlib import pyplot as plt\n",
    "from skimage import feature\n",
    "from scipy.spatial import distance\n",
    "import os\n",
    "from os import listdir\n",
    "from os.path import isfile, join"
   ]
  },
  {
   "cell_type": "markdown",
   "metadata": {},
   "source": [
    "# Define functions"
   ]
  },
  {
   "cell_type": "code",
   "execution_count": 193,
   "metadata": {},
   "outputs": [],
   "source": [
    "def preprocess(img,t):\n",
    "    img[img==255] = 0\n",
    "    blur = cv2.GaussianBlur(img,(5,5),0)\n",
    "    blur2 = cv2.GaussianBlur(blur,(7,3),0)\n",
    "    smooth = cv2.addWeighted(blur2,1.65,img,-0.5,0)\n",
    "    ret,th3 = cv2.threshold(smooth,t,255,cv2.THRESH_BINARY_INV)\n",
    "    return th3\n",
    "\n",
    "def findContour(img,remove_contours):\n",
    "    _,c,h = cv2.findContours(img,cv2.RETR_CCOMP,cv2.CHAIN_APPROX_SIMPLE)\n",
    "    contour_sizes = [[cv2.contourArea(contour), contour] for contour in c]\n",
    "    if (remove_contours):\n",
    "        temp=[]\n",
    "        for x in contour_sizes:\n",
    "            keep = True\n",
    "            for y in x[1]:\n",
    "                 if (y[0][0] < img.shape[1]*0.02) | (y[0][1] < img.shape[0]*0.02) | \\\n",
    "                    (y[0][0] > (img.shape[1]-img.shape[1]*0.02)) | (y[0][1] > (img.shape[0]-img.shape[0]*0.02)):\n",
    "                    keep = False\n",
    "                    break\n",
    "\n",
    "            if(keep==True):\n",
    "                temp.append(x)\n",
    "        contour_sizes = temp\n",
    "    contour_sizes = sorted(contour_sizes,key=lambda l:l[0], reverse=True)\n",
    "    return contour_sizes\n",
    "\n",
    "def drawLung(img_shape,contour_sizes):\n",
    "    drawing = np.zeros(img_shape, np.uint8)\n",
    "    for x in contour_sizes:\n",
    "        cv2.drawContours(drawing, [x[1]], -1, 255, -1)\n",
    "    return drawing\n",
    "\n",
    "def cmpContourSize(contour1,contour2,img_width):\n",
    "    # to differentiate left and right lung\n",
    "    remained =[]\n",
    "    single_contour1 = False\n",
    "    single_contour2 = False\n",
    "    \n",
    "    if(len(contour1) <2):\n",
    "        single_contour1 = True\n",
    "    if(len(contour2) <2):\n",
    "        single_contour2 = True\n",
    "        \n",
    "    for c in contour1:\n",
    "        if (c[0] == 0):\n",
    "            single_contour1 = True\n",
    "    for c in contour2:\n",
    "        if c[0] == 0:\n",
    "            single_contour2 = True\n",
    "\n",
    "    if(single_contour1 == True):\n",
    "        if((len(contour1)==1) & (contour1[0]==0)):\n",
    "            l_size1 = [0]\n",
    "            r_size1 = [0]\n",
    "        elif(len(contour1[0])==1):\n",
    "            if contour1[1][1][0][0][0] < int(img_width/2):\n",
    "                l_size1 = contour1[1]\n",
    "                r_size1 = [0]\n",
    "            else:\n",
    "                l_size1 = [0]\n",
    "                r_size1 = contour1[1]\n",
    "        else:    \n",
    "            if contour1[0][1][0][0][0] < int(img_width/2):\n",
    "                l_size1 = contour1[0]\n",
    "                r_size1 = [0]\n",
    "            else:\n",
    "                l_size1 = [0]\n",
    "                r_size1 = contour1[0]\n",
    "              \n",
    "    if(single_contour2 == True):\n",
    "        if((len(contour2)==1) & (contour2[0]==0)):\n",
    "            l_size2 = [0]\n",
    "            r_size2 = [0]\n",
    "        elif(len(contour2[0])==1):\n",
    "            if contour2[1][1][0][0][0] < int(img_width/2):\n",
    "                l_size2 = contour2[1]\n",
    "                r_size2 = [0]\n",
    "            else:\n",
    "                l_size2 = [0]\n",
    "                r_size2 = contour2[1]\n",
    "        else:    \n",
    "            if contour2[0][1][0][0][0] < int(img_width/2):\n",
    "                l_size2 = contour2[0]\n",
    "                r_size2 = [0]\n",
    "            else:\n",
    "                l_size2 = [0]\n",
    "                r_size2 = contour2[0]\n",
    "    \n",
    "    if(single_contour1 == False):\n",
    "        if contour1[0][1][0][0][0] < int(img_width/2):\n",
    "            l_size1 = contour1[0]\n",
    "            r_size1 = contour1[1]\n",
    "        else:\n",
    "            l_size1 = contour1[1]\n",
    "            r_size1 = contour1[0]\n",
    "    \n",
    "    if(single_contour2 == False):\n",
    "        if contour2[0][1][0][0][0] < int(img_width/2):\n",
    "            l_size2 = contour2[0]\n",
    "            r_size2 = contour2[1]\n",
    "        else:\n",
    "            l_size2 = contour2[1]\n",
    "            r_size2 = contour2[0]\n",
    "    \n",
    "    if (l_size1[0] > l_size2[0]):\n",
    "        remained.append(l_size1)\n",
    "    else:\n",
    "        remained.append(l_size2)\n",
    "        \n",
    "    if (r_size1[0] > r_size2[0]):\n",
    "        remained.append(r_size1)\n",
    "    else:\n",
    "        remained.append(r_size2)\n",
    "     \n",
    "    return remained\n",
    "    \n",
    "    \n",
    "\n",
    "def cmpDist(img1,img2):\n",
    "    img1[img1==255] = 1\n",
    "    img2[img2==255] = 1\n",
    "    return (distance.euclidean(np.asarray(img1).ravel(),np.asarray(img2).ravel())/(img1.shape[0]*img1.shape[1]))  "
   ]
  },
  {
   "cell_type": "markdown",
   "metadata": {},
   "source": [
    "# Main"
   ]
  },
  {
   "cell_type": "code",
   "execution_count": null,
   "metadata": {
    "scrolled": false
   },
   "outputs": [],
   "source": [
    "current_path = os.getcwd()\n",
    "img_path = current_path + '/lung-dataset/images/'\n",
    "mask_path = current_path + '/lung-dataset/mask/'\n",
    "ans_path = current_path + '/lung-dataset/contours/'\n",
    "for i in range(len(listdir(img_path))):\n",
    "    threshold_value = 220\n",
    "    \n",
    "    cur_img_path = join(img_path,listdir(img_path)[i])\n",
    "    cur_mask_path = join(mask_path,listdir(mask_path)[i])\n",
    "    cur_ans_path = join(ans_path,listdir(img_path)[i])\n",
    "    print(cur_img_path)\n",
    "\n",
    "    img = cv2.imread(cur_img_path,0)\n",
    "    mask = cv2.imread(cur_mask_path,0)\n",
    "\n",
    "    count = 1\n",
    "    while(threshold_value>=140):\n",
    "        preprocessed = preprocess(img,threshold_value)\n",
    "        if (len(contour1)==0) & (threshold_value==140):\n",
    "            contour1 = findContour(preprocessed,False)\n",
    "            contour1 = [x for x in contour1 if x[0]/(img.shape[0]*img.shape[1])>0.02]\n",
    "        elif count == 1:\n",
    "            contour1 = findContour(preprocessed,True)\n",
    "            contour1 = [x for x in contour1 if x[0]/(img.shape[0]*img.shape[1])>0.02]\n",
    "            if(len(contour1)==0):\n",
    "                count = count-1\n",
    "\n",
    "        else:\n",
    "            contour2 = findContour(preprocessed,True)\n",
    "            contour2 = [x for x in contour2 if x[0]/(img.shape[0]*img.shape[1])>0.02] \n",
    "            if(len(contour1)>0) & (len(contour2)>0):\n",
    "                contour1 = cmpContourSize(contour1,contour2,img.shape[1])\n",
    "                \n",
    "        threshold_value = threshold_value - 5\n",
    "        count = count+1\n",
    "    \n",
    "    if(len(contour1[0])==1):\n",
    "        drawing = drawLung(preprocessed.shape,[contour1[1]])\n",
    "    elif(len(contour1[1])==1):\n",
    "        drawing = drawLung(preprocessed.shape,[contour1[0]])\n",
    "    else:\n",
    "        drawing = drawLung(preprocessed.shape,contour1)\n",
    "\n",
    "    cv2.imwrite(cur_ans_path,drawing)\n",
    "\n"
   ]
  },
  {
   "cell_type": "markdown",
   "metadata": {},
   "source": [
    "# Find distance"
   ]
  },
  {
   "cell_type": "code",
   "execution_count": 215,
   "metadata": {},
   "outputs": [],
   "source": [
    "import operator"
   ]
  },
  {
   "cell_type": "code",
   "execution_count": 233,
   "metadata": {},
   "outputs": [],
   "source": [
    "mask_path = current_path + '/lung-dataset/mask/'\n",
    "ans_path = current_path + '/lung-dataset/contours5/'\n",
    "distance_large=[]\n",
    "for i in range(len(listdir(ans_path))):\n",
    "    cur_mask_path = join(mask_path,listdir(mask_path)[i])\n",
    "    cur_ans_path = join(ans_path,listdir(ans_path)[i])\n",
    "    \n",
    "    ans = cv2.imread(cur_ans_path,0)\n",
    "    mask = cv2.imread(cur_mask_path,0)\n",
    "    distance_large.append(cmpDist(ans,mask))\n",
    "\n",
    "max_index, max_dist = max(enumerate(distance_large), key=operator.itemgetter(1))\n",
    "min_index, min_dist = min(enumerate(distance_large), key=operator.itemgetter(1))\n",
    "avg_dist = sum(distance_large)/len(distance_large)\n"
   ]
  },
  {
   "cell_type": "code",
   "execution_count": 234,
   "metadata": {},
   "outputs": [
    {
     "name": "stdout",
     "output_type": "stream",
     "text": [
      "Minimum distance:  0.009000063255418215\n",
      "Maximum distance:  0.040916414236126776\n",
      "Average distance:  0.01757307290703837\n"
     ]
    }
   ],
   "source": [
    "#large dataset\n",
    "print('Minimum distance: ',min_dist)\n",
    "print('Maximum distance: ',max_dist)\n",
    "print('Average distance: ',avg_dist)"
   ]
  },
  {
   "cell_type": "code",
   "execution_count": null,
   "metadata": {
    "scrolled": true
   },
   "outputs": [],
   "source": [
    "print(max_index)\n",
    "print(min_index)"
   ]
  },
  {
   "cell_type": "code",
   "execution_count": null,
   "metadata": {},
   "outputs": [],
   "source": [
    "#small dataset\n",
    "print('Minimum distance: ',min_dist)\n",
    "print('Maximum distance: ',max_dist)\n",
    "print('Average distance: ',avg_dist)"
   ]
  }
 ],
 "metadata": {
  "kernelspec": {
   "display_name": "Python 3",
   "language": "python",
   "name": "python3"
  },
  "language_info": {
   "codemirror_mode": {
    "name": "ipython",
    "version": 3
   },
   "file_extension": ".py",
   "mimetype": "text/x-python",
   "name": "python",
   "nbconvert_exporter": "python",
   "pygments_lexer": "ipython3",
   "version": "3.6.5"
  }
 },
 "nbformat": 4,
 "nbformat_minor": 2
}
